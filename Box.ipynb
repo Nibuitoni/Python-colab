{
  "nbformat": 4,
  "nbformat_minor": 0,
  "metadata": {
    "colab": {
      "name": "Box.ipynb",
      "provenance": [],
      "authorship_tag": "ABX9TyOcRtVDvAypb0eI8ouaiAOD",
      "include_colab_link": true
    },
    "kernelspec": {
      "name": "python3",
      "display_name": "Python 3"
    }
  },
  "cells": [
    {
      "cell_type": "markdown",
      "metadata": {
        "id": "view-in-github",
        "colab_type": "text"
      },
      "source": [
        "<a href=\"https://colab.research.google.com/github/Nibuitoni/Python-colab/blob/master/Box.ipynb\" target=\"_parent\"><img src=\"https://colab.research.google.com/assets/colab-badge.svg\" alt=\"Open In Colab\"/></a>"
      ]
    },
    {
      "cell_type": "code",
      "metadata": {
        "id": "Etby9EZehT8F",
        "colab_type": "code",
        "colab": {}
      },
      "source": [
        "papelao_pesocm = 1\n",
        "\n"
      ],
      "execution_count": null,
      "outputs": []
    },
    {
      "cell_type": "code",
      "metadata": {
        "id": "3f6ovoTWhlAQ",
        "colab_type": "code",
        "colab": {}
      },
      "source": [
        "# Área Total paralelepípedo: At = 2ab+2bc+2ac\n",
        "def peso_papelao(altura, largura, profundidade):\n",
        "  area = 2*(altura * largura) + 2*(largura * profundidade) + 2*(altura * profundidade)\n",
        "  peso_total = area * papelao_pesocm\n",
        "  print(area)\n",
        "  return peso_total"
      ],
      "execution_count": null,
      "outputs": []
    },
    {
      "cell_type": "code",
      "metadata": {
        "id": "wGoXuqXbiKpU",
        "colab_type": "code",
        "colab": {
          "base_uri": "https://localhost:8080/",
          "height": 51
        },
        "outputId": "13e18bb0-291d-4f03-df6b-a7e297a18923"
      },
      "source": [
        "peso_resultado = peso_papelao(10, 7, 3.5) /10\n",
        "print(peso_resultado)"
      ],
      "execution_count": null,
      "outputs": [
        {
          "output_type": "stream",
          "text": [
            "259.0\n",
            "25.9\n"
          ],
          "name": "stdout"
        }
      ]
    },
    {
      "cell_type": "code",
      "metadata": {
        "id": "zRvQmcODmbUM",
        "colab_type": "code",
        "colab": {
          "base_uri": "https://localhost:8080/",
          "height": 51
        },
        "outputId": "3eab9b8b-97f8-423d-e14c-1aaf76f3f2c3"
      },
      "source": [
        "# caixa papelao peso = 0.440 \n",
        "peso_resultado = peso_papelao(38, 17, 27)\n",
        "print(peso_resultado)"
      ],
      "execution_count": null,
      "outputs": [
        {
          "output_type": "stream",
          "text": [
            "4262\n",
            "4262\n"
          ],
          "name": "stdout"
        }
      ]
    },
    {
      "cell_type": "code",
      "metadata": {
        "id": "xR1gNTQ8o6_9",
        "colab_type": "code",
        "colab": {
          "base_uri": "https://localhost:8080/",
          "height": 34
        },
        "outputId": "78d197f2-8f0b-408e-8faf-feecb8995525"
      },
      "source": [
        "print(259* 0.6)"
      ],
      "execution_count": null,
      "outputs": [
        {
          "output_type": "stream",
          "text": [
            "155.4\n"
          ],
          "name": "stdout"
        }
      ]
    },
    {
      "cell_type": "markdown",
      "metadata": {
        "id": "qLuHwh2qiln7",
        "colab_type": "text"
      },
      "source": [
        "\n"
      ]
    }
  ]
}